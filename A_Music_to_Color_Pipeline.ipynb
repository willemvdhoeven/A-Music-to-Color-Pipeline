{
  "cells": [
    {
      "cell_type": "markdown",
      "metadata": {
        "id": "s0KhLW0E8rv1"
      },
      "source": [],
      "id": "s0KhLW0E8rv1"
    },
    {
      "cell_type": "markdown",
      "metadata": {
        "id": "lJiHCra-qT7L"
      },
      "source": [
        "# Imports "
      ],
      "id": "lJiHCra-qT7L"
    },
    {
      "cell_type": "code",
      "execution_count": null,
      "metadata": {
        "id": "asian-communist"
      },
      "outputs": [],
      "source": [
        "# All imports needed for this research, and mount to the google drive where the data was stored\n",
        "import pandas as pd\n",
        "import matplotlib\n",
        "import matplotlib.pyplot as plt\n",
        "from music21 import *\n",
        "import re\n",
        "from google.colab import files\n",
        "import os\n",
        "import music21\n",
        "from google.colab import drive\n",
        "from sklearn.model_selection import train_test_split\n",
        "from sklearn import tree\n",
        "from sklearn.tree import export_text\n",
        "from sklearn.datasets import load_iris\n",
        "from sklearn import metrics\n",
        "drive.mount('/content/drive')"
      ],
      "id": "asian-communist"
    },
    {
      "cell_type": "markdown",
      "metadata": {
        "id": "AOG5pSghqZ9I"
      },
      "source": [
        "# Import midi files from google drive \n",
        "  "
      ],
      "id": "AOG5pSghqZ9I"
    },
    {
      "cell_type": "code",
      "execution_count": null,
      "metadata": {
        "id": "6ArP9ohuPxf8"
      },
      "outputs": [],
      "source": [
        "# All MIDI files were stored on my google drive, therefore some functions need to be applied to extract these from google drive and convert them to midi21 objects\n",
        "# ------------------------------------------- \n",
        "base_midi = []\n",
        "survey_songs = []\n",
        "\n",
        "# Google drive links\n",
        "survey_song = os.listdir('/content/drive/MyDrive/Music and AI: Composing music as a logical modeling problem/Surveysongsmidifiles/')\n",
        "classical_songs = os.listdir('/content/drive/MyDrive/Music and AI: Composing music as a logical modeling problem/Composersmidifiles/')\n",
        "pop_songs = os.listdir('/content/drive/MyDrive/Music and AI: Composing music as a logical modeling problem/Popsongsmidifiles/')\n",
        "\n",
        "# ------------------------------------------- \n",
        "#Functions to extract songs from google drive and convert them to music21 Objects\n",
        "def extract_survey_songs(song):\n",
        "  string = '/content/drive/MyDrive/Music and AI: Composing music as a logical modeling problem/Surveysongsmidifiles/' + song\n",
        "  survey_songs.append((converter.parse(string), song))\n",
        "\n",
        "def extract_classical_songs(composer):\n",
        "  string = '/content/drive/MyDrive/Music and AI: Composing music as a logical modeling problem/Composersmidifiles/' + composer + '/'\n",
        "  folder = os.listdir(string)\n",
        "  for song in folder:\n",
        "    string_song = string + song\n",
        "    base_midi.append((converter.parse(string_song), song))\n",
        "\n",
        "def extract_pop_songs(song):\n",
        "  string = '/content/drive/MyDrive/Music and AI: Composing music as a logical modeling problem/Popsongsmidifiles/' + song\n",
        "  base_midi.append((converter.parse(string), song))\n",
        "\n",
        "# -------------------------------------------\n",
        "#For loops to extract songs from different google drive links\n",
        "for i in survey_song:\n",
        "  extract_survey_songs(i)\n",
        "  \n",
        "for i in classical_songs:\n",
        "  extract_classical_songs(i)\n",
        "\n",
        "for i in pop_songs:\n",
        "  extract_pop_songs(i)"
      ],
      "id": "6ArP9ohuPxf8"
    },
    {
      "cell_type": "markdown",
      "metadata": {
        "id": "eoDlcEJoUgqZ"
      },
      "source": [
        "# Feature functions"
      ],
      "id": "eoDlcEJoUgqZ"
    },
    {
      "cell_type": "code",
      "execution_count": 88,
      "metadata": {
        "id": "HBiPg4cVVMgF"
      },
      "outputs": [],
      "source": [
        "# Function to analyze the key of a song \n",
        "def analyze_key(song):\n",
        "  print(song)\n",
        "  key = str(song[0].analyze('key'))\n",
        "  return key\n",
        "\n",
        "# Function to extraxt the key confidence of a song \n",
        "def music_key_confidence(song):\n",
        "  music_analysis = song[0].analyze('key')\n",
        "  key_confidence = music_analysis.correlationCoefficient\n",
        "  return key_confidence\n",
        " \n",
        "# Function to extract the minimal pitch of a song \n",
        "def min_pitch(song):\n",
        "  notes = song[0].flat.getElementsByClass(music21.note.Note)\n",
        "  min_pitch = min([note.pitch.midi for note in notes])\n",
        "  return(min_pitch)\n",
        "\n",
        "# Function to extract the maximal pitch of a song \n",
        "def max_pitch(song):\n",
        "  notes = song[0].flat.getElementsByClass(music21.note.Note)\n",
        "  max_pitch = max([note.pitch.midi for note in notes])\n",
        "  return max_pitch\n",
        "\n",
        "# Function to extract the pitch range of a song\n",
        "def pitch_range(song):\n",
        "  notes = song[0].flat.getElementsByClass(music21.note.Note)\n",
        "  min_pitch = min([note.pitch.midi for note in notes])\n",
        "  max_pitch = max([note.pitch.midi for note in notes])\n",
        "  pitch_range = max_pitch - min_pitch \n",
        "  return pitch_range\n",
        "\n",
        "# Function to extract the velocity of a song\n",
        "def velocity(song):\n",
        "  notes = song[0].flat.getElementsByClass(music21.note.Note)\n",
        "  mean_velocity = sum([note.volume.velocity for note in notes])/len(notes)\n",
        "  return mean_velocity\n",
        "\n",
        "# Function to extraxt the time signature of a song \n",
        "def time_signature(song):\n",
        "  timeSignature = song[0].getTimeSignatures()[0] \n",
        "  name_of_song = song[1]\n",
        "  time_signature = \"{0}/{1}\".format(timeSignature.beatCount, timeSignature.denominator)\n",
        "  return time_signature\n",
        "\n",
        "# Funtcion to extract the bpm of a song \n",
        "def find_bpm(song):\n",
        "  tempo = song[0].flat.getElementsByClass(music21.tempo.MetronomeMark)[0]\n",
        "  bpm = tempo.number\n",
        "  return bpm"
      ],
      "id": "HBiPg4cVVMgF"
    },
    {
      "cell_type": "markdown",
      "metadata": {
        "id": "-AUoM4ORzLnw"
      },
      "source": [
        "# Survey dataframe\n"
      ],
      "id": "-AUoM4ORzLnw"
    },
    {
      "cell_type": "code",
      "execution_count": null,
      "metadata": {
        "id": "WIRLiiumZpu_"
      },
      "outputs": [],
      "source": [
        "features = []\n",
        "\n",
        "# For loop to extract feature's from the musical pieces used within the survey\n",
        "for song in survey_songs:\n",
        "  key = analyze_key(song)\n",
        "  key_confidence = music_key_confidence(song)\n",
        "  minimal_pitch  = min_pitch(song)\n",
        "  maximal_pitch = max_pitch(song)\n",
        "  range_of_pitch = pitch_range(song)\n",
        "  rhythm  = time_signature(song)\n",
        "  bpm = int(find_bpm(song))\n",
        "  vel = int(velocity(song))\n",
        "  features.append((key, key_confidence, minimal_pitch, maximal_pitch, range_of_pitch, rhythm, bpm, vel, song[1]))\n",
        "\n",
        "# Creating the Panda Dataframe for the musical pieces used in the survey\n",
        "features_survey_dataframe = pd.DataFrame(features, columns = ['key', 'key confidence', 'min pitch', 'max pitch', 'pitch_range', 'time signature','bpm', 'velocity', 'name'])\n",
        "features_survey_dataframe.set_index('name', inplace = True)\n",
        "boolean_survey_dataframe = pd.get_dummies(data=features_survey_dataframe , columns=['key', 'time signature'])\n",
        "display(boolean_survey_dataframe )\n"
      ],
      "id": "WIRLiiumZpu_"
    },
    {
      "cell_type": "markdown",
      "metadata": {
        "id": "SUabYULiMz1_"
      },
      "source": [
        "# Survey \n",
        "\n"
      ],
      "id": "SUabYULiMz1_"
    },
    {
      "cell_type": "code",
      "execution_count": null,
      "metadata": {
        "id": "f9UhaCvgM5Aa"
      },
      "outputs": [],
      "source": [
        "# Import data collected by the survey\n",
        "uploaded = files.upload()"
      ],
      "id": "f9UhaCvgM5Aa"
    },
    {
      "cell_type": "code",
      "execution_count": 91,
      "metadata": {
        "id": "C9GBqjSaNFEi"
      },
      "outputs": [],
      "source": [
        "# Reed the data collected by the survey\n",
        "df = pd.read_csv('survey.csv')"
      ],
      "id": "C9GBqjSaNFEi"
    },
    {
      "cell_type": "code",
      "execution_count": 92,
      "metadata": {
        "id": "wFRj4sETOvlq"
      },
      "outputs": [],
      "source": [
        "# Rename all the columns to the corresponding name of the song\n",
        "df.rename(columns = {'Horodateur': 'Timestamp',\n",
        "                     'Which color do you associate with Track 1': 'The Corrs - Dreams',\n",
        "                     'Which color do you associate with Track 2?': 'Mozart - 333 3',\n",
        "                     'Which color do you associate with Track 3?': 'Beethoven - opus22 4',\n",
        "                     'Which color do you associate with Track 4?': 'Chopin  - op18', \n",
        "                     'Which color do you associate with Track 5?': 'Frank Mills - Musicbox Dancer',\n",
        "                     'Which color do you associate with Track 6?': 'Borodin - ps7',\n",
        "                     'Which color do you associate with Track 7?': 'Cyndi Lauper - True Colors',\n",
        "                     'Which color do you associate with Track 8?': 'George Benson - On Broadway',\n",
        "                     'Which color do you associate with Track 9?': 'Grieg - Voeglein',\n",
        "                     'Which color do you associate with Track 10?': 'ABBA - Money Money Money',\n",
        "                     'How old are you': \"Age\",\n",
        "                     'What is your gender': 'Gender',}, inplace = True)"
      ],
      "id": "wFRj4sETOvlq"
    },
    {
      "cell_type": "code",
      "execution_count": 93,
      "metadata": {
        "id": "iPe-9uqMQPYm"
      },
      "outputs": [],
      "source": [
        "# Drop the columns not relevant for this research\n",
        "df = df.drop(columns = ['Timestamp', 'Age', 'Gender'])"
      ],
      "id": "iPe-9uqMQPYm"
    },
    {
      "cell_type": "code",
      "execution_count": 94,
      "metadata": {
        "id": "nOTqv2RoTwrM"
      },
      "outputs": [],
      "source": [
        "# Returns how many time participant did vote for a certain color\n",
        "all_genders_colors = df.copy()\n",
        "all_genders_colors = all_genders_colors.apply(pd.value_counts)\n",
        "all_genders_colors = all_genders_colors.fillna(0)"
      ],
      "id": "nOTqv2RoTwrM"
    },
    {
      "cell_type": "code",
      "execution_count": null,
      "metadata": {
        "id": "gtBAb8rJbrrl"
      },
      "outputs": [],
      "source": [
        "# Create pie charts for each song used within the survey\n",
        "for column in all_genders_colors:\n",
        "    fig, (ax1) = plt.subplots(1, 1,  figsize=(18,6))\n",
        "\n",
        "    all_genders_colors.plot.pie( \n",
        "                            y = all_genders_colors[column].name,\n",
        "                            colors = ['#625f64', '#6fa8dc', '#8fce00','Pink', '#b892dc' , '#e75454', 'White', '#ffd966'],\n",
        "                            legend = False,\n",
        "                            subplots = True,\n",
        "                            label = '',\n",
        "                            wedgeprops = {\"edgecolor\":\"k\", \"linewidth\": 0.5, \"linestyle\": \"solid\", \"antialiased\": True},\n",
        "                            autopct=lambda p: '{:.1f}%'.format(round(p)) if p > 0 else \"\",\n",
        "                            ax = ax1)\n",
        "  \n",
        "    ax1.set_title(column)\n",
        "    plt.tight_layout()\n",
        "    nameFigure = \"{}_Gender_color.png\".format(column)\n",
        "    plt.savefig(nameFigure)\n"
      ],
      "id": "gtBAb8rJbrrl"
    },
    {
      "cell_type": "code",
      "execution_count": 96,
      "metadata": {
        "id": "ZtvTRABWbG4v"
      },
      "outputs": [],
      "source": [
        "# Creates a dataframe with the color that is most present of each song\n",
        "color_each_song = []\n",
        "\n",
        "for column in all_genders_colors:\n",
        "  name  = column + '.mid'\n",
        "  color_each_song.append((all_genders_colors[column].idxmax(), name))\n",
        "\n",
        "color_each_song\n",
        "\n",
        "df_color = pd.DataFrame(color_each_song, columns = ['Color', 'name'])\n",
        "df_color.set_index('name', inplace=True)"
      ],
      "id": "ZtvTRABWbG4v"
    },
    {
      "cell_type": "markdown",
      "metadata": {
        "id": "6rblm5nVYNci"
      },
      "source": [
        "#  Dataframe survey with color of each song\n"
      ],
      "id": "6rblm5nVYNci"
    },
    {
      "cell_type": "code",
      "execution_count": null,
      "metadata": {
        "id": "ch66cVrZYQZX"
      },
      "outputs": [],
      "source": [
        "# Merges the color dataframe and feature dataframe of the survey together, and applies one-hot-encoding to some features of this dataframe\n",
        "features_survey_dataframe_with_color = pd.merge(features_survey_dataframe, df_color, on='name')\n",
        "pd.get_dummies(features_survey_dataframe_with_color, columns=['key', 'time signature'])"
      ],
      "id": "ch66cVrZYQZX"
    },
    {
      "cell_type": "markdown",
      "metadata": {
        "id": "cnfi1w-KBwC6"
      },
      "source": [
        "# Extracting feature's from each color set"
      ],
      "id": "cnfi1w-KBwC6"
    },
    {
      "cell_type": "code",
      "execution_count": null,
      "metadata": {
        "id": "R61J5Y98B_dG"
      },
      "outputs": [],
      "source": [
        "# To extract all feature's from each color set, the color within each link needs to be changed to the specific color\n",
        "google_drive_link = '/content/drive/MyDrive/Music and AI: Composing music as a logical modeling problem/Greenmidifiles/' \n",
        "music_google_drive = os.listdir('/content/drive/MyDrive/Music and AI: Composing music as a logical modeling problem/Greenmidifiles/')\n",
        "all_music = []\n",
        "color = 'Green'\n",
        "Name_to_save_data = 'Green'\n",
        "\n",
        "# Function to extract from google drive\n",
        "def extract_songs(song):\n",
        "  string = '/content/drive/MyDrive/Music and AI: Composing music as a logical modeling problem/Greenmidifiles/' + song\n",
        "  all_music.append([converter.parse(string), song])\n",
        " \n",
        "# For loops to extract songs from google drive links\n",
        "for song in music_google_drive:\n",
        "  extract_songs(song)"
      ],
      "id": "R61J5Y98B_dG"
    },
    {
      "cell_type": "code",
      "execution_count": null,
      "metadata": {
        "id": "tYdG0QN2CNtm"
      },
      "outputs": [],
      "source": [
        "features_2 = []\n",
        "\n",
        "# For loop to extract feature's from the musical pieces within each color\n",
        "for song in all_music:\n",
        "  key = analyze_key(song)\n",
        "  key_confidence = music_key_confidence(song)\n",
        "  minimal_pitch  = min_pitch(song)\n",
        "  maximal_pitch = max_pitch(song)\n",
        "  range_of_pitch = pitch_range(song)\n",
        "  rhythm  = time_signature(song)\n",
        "  bpm = int(find_bpm(song))\n",
        "  vel = int(velocity(song))\n",
        "  features_2.append((key, key_confidence, minimal_pitch, maximal_pitch, range_of_pitch, rhythm, bpm , vel, song[1]))\n",
        "\n",
        "\n",
        "# Dataframe\n",
        "features_dataframe_2 = pd.DataFrame(features_2, columns = ['key', 'key confidence', 'min pitch', 'max pitch', 'pitch_range', 'time signature', 'bpm', 'velocity', 'name'])\n",
        "features_dataframe_2.set_index('name', inplace = True)\n"
      ],
      "id": "tYdG0QN2CNtm"
    },
    {
      "cell_type": "code",
      "execution_count": null,
      "metadata": {
        "id": "QUvZlPTHCeLi"
      },
      "outputs": [],
      "source": [
        "features_dataframe_2.insert(loc = len(features_dataframe_2.columns), column = 'Color', value = color)"
      ],
      "id": "QUvZlPTHCeLi"
    },
    {
      "cell_type": "code",
      "execution_count": null,
      "metadata": {
        "id": "02TCRedCClnS"
      },
      "outputs": [],
      "source": [
        "boolean_dataframe = pd.get_dummies(data=features_dataframe_2, columns=['key', 'time signature'])\n",
        "display(boolean_dataframe)\n",
        "csv_data = boolean_dataframe.to_csv(Name_to_save_data)"
      ],
      "id": "02TCRedCClnS"
    },
    {
      "cell_type": "markdown",
      "metadata": {
        "id": "pj417bphGfxB"
      },
      "source": [
        "# Import and merge data\n",
        "\n",
        "\n",
        "\n"
      ],
      "id": "pj417bphGfxB"
    },
    {
      "cell_type": "markdown",
      "source": [],
      "metadata": {
        "id": "8IXHRTcTC--b"
      },
      "id": "8IXHRTcTC--b"
    },
    {
      "cell_type": "code",
      "source": [
        "# Import dataframes from every color\n",
        "uploaded = files.upload()"
      ],
      "metadata": {
        "id": "Oatg0Ixz00bS",
        "colab": {
          "base_uri": "https://localhost:8080/",
          "height": 39
        },
        "outputId": "c965a2e5-ee65-4103-aa97-c0d278552c25"
      },
      "id": "Oatg0Ixz00bS",
      "execution_count": 121,
      "outputs": [
        {
          "output_type": "display_data",
          "data": {
            "text/plain": [
              "<IPython.core.display.HTML object>"
            ],
            "text/html": [
              "\n",
              "     <input type=\"file\" id=\"files-ba49ae69-4609-4503-bf9e-2f42e9f1748f\" name=\"files[]\" multiple disabled\n",
              "        style=\"border:none\" />\n",
              "     <output id=\"result-ba49ae69-4609-4503-bf9e-2f42e9f1748f\">\n",
              "      Upload widget is only available when the cell has been executed in the\n",
              "      current browser session. Please rerun this cell to enable.\n",
              "      </output>\n",
              "      <script>// Copyright 2017 Google LLC\n",
              "//\n",
              "// Licensed under the Apache License, Version 2.0 (the \"License\");\n",
              "// you may not use this file except in compliance with the License.\n",
              "// You may obtain a copy of the License at\n",
              "//\n",
              "//      http://www.apache.org/licenses/LICENSE-2.0\n",
              "//\n",
              "// Unless required by applicable law or agreed to in writing, software\n",
              "// distributed under the License is distributed on an \"AS IS\" BASIS,\n",
              "// WITHOUT WARRANTIES OR CONDITIONS OF ANY KIND, either express or implied.\n",
              "// See the License for the specific language governing permissions and\n",
              "// limitations under the License.\n",
              "\n",
              "/**\n",
              " * @fileoverview Helpers for google.colab Python module.\n",
              " */\n",
              "(function(scope) {\n",
              "function span(text, styleAttributes = {}) {\n",
              "  const element = document.createElement('span');\n",
              "  element.textContent = text;\n",
              "  for (const key of Object.keys(styleAttributes)) {\n",
              "    element.style[key] = styleAttributes[key];\n",
              "  }\n",
              "  return element;\n",
              "}\n",
              "\n",
              "// Max number of bytes which will be uploaded at a time.\n",
              "const MAX_PAYLOAD_SIZE = 100 * 1024;\n",
              "\n",
              "function _uploadFiles(inputId, outputId) {\n",
              "  const steps = uploadFilesStep(inputId, outputId);\n",
              "  const outputElement = document.getElementById(outputId);\n",
              "  // Cache steps on the outputElement to make it available for the next call\n",
              "  // to uploadFilesContinue from Python.\n",
              "  outputElement.steps = steps;\n",
              "\n",
              "  return _uploadFilesContinue(outputId);\n",
              "}\n",
              "\n",
              "// This is roughly an async generator (not supported in the browser yet),\n",
              "// where there are multiple asynchronous steps and the Python side is going\n",
              "// to poll for completion of each step.\n",
              "// This uses a Promise to block the python side on completion of each step,\n",
              "// then passes the result of the previous step as the input to the next step.\n",
              "function _uploadFilesContinue(outputId) {\n",
              "  const outputElement = document.getElementById(outputId);\n",
              "  const steps = outputElement.steps;\n",
              "\n",
              "  const next = steps.next(outputElement.lastPromiseValue);\n",
              "  return Promise.resolve(next.value.promise).then((value) => {\n",
              "    // Cache the last promise value to make it available to the next\n",
              "    // step of the generator.\n",
              "    outputElement.lastPromiseValue = value;\n",
              "    return next.value.response;\n",
              "  });\n",
              "}\n",
              "\n",
              "/**\n",
              " * Generator function which is called between each async step of the upload\n",
              " * process.\n",
              " * @param {string} inputId Element ID of the input file picker element.\n",
              " * @param {string} outputId Element ID of the output display.\n",
              " * @return {!Iterable<!Object>} Iterable of next steps.\n",
              " */\n",
              "function* uploadFilesStep(inputId, outputId) {\n",
              "  const inputElement = document.getElementById(inputId);\n",
              "  inputElement.disabled = false;\n",
              "\n",
              "  const outputElement = document.getElementById(outputId);\n",
              "  outputElement.innerHTML = '';\n",
              "\n",
              "  const pickedPromise = new Promise((resolve) => {\n",
              "    inputElement.addEventListener('change', (e) => {\n",
              "      resolve(e.target.files);\n",
              "    });\n",
              "  });\n",
              "\n",
              "  const cancel = document.createElement('button');\n",
              "  inputElement.parentElement.appendChild(cancel);\n",
              "  cancel.textContent = 'Cancel upload';\n",
              "  const cancelPromise = new Promise((resolve) => {\n",
              "    cancel.onclick = () => {\n",
              "      resolve(null);\n",
              "    };\n",
              "  });\n",
              "\n",
              "  // Wait for the user to pick the files.\n",
              "  const files = yield {\n",
              "    promise: Promise.race([pickedPromise, cancelPromise]),\n",
              "    response: {\n",
              "      action: 'starting',\n",
              "    }\n",
              "  };\n",
              "\n",
              "  cancel.remove();\n",
              "\n",
              "  // Disable the input element since further picks are not allowed.\n",
              "  inputElement.disabled = true;\n",
              "\n",
              "  if (!files) {\n",
              "    return {\n",
              "      response: {\n",
              "        action: 'complete',\n",
              "      }\n",
              "    };\n",
              "  }\n",
              "\n",
              "  for (const file of files) {\n",
              "    const li = document.createElement('li');\n",
              "    li.append(span(file.name, {fontWeight: 'bold'}));\n",
              "    li.append(span(\n",
              "        `(${file.type || 'n/a'}) - ${file.size} bytes, ` +\n",
              "        `last modified: ${\n",
              "            file.lastModifiedDate ? file.lastModifiedDate.toLocaleDateString() :\n",
              "                                    'n/a'} - `));\n",
              "    const percent = span('0% done');\n",
              "    li.appendChild(percent);\n",
              "\n",
              "    outputElement.appendChild(li);\n",
              "\n",
              "    const fileDataPromise = new Promise((resolve) => {\n",
              "      const reader = new FileReader();\n",
              "      reader.onload = (e) => {\n",
              "        resolve(e.target.result);\n",
              "      };\n",
              "      reader.readAsArrayBuffer(file);\n",
              "    });\n",
              "    // Wait for the data to be ready.\n",
              "    let fileData = yield {\n",
              "      promise: fileDataPromise,\n",
              "      response: {\n",
              "        action: 'continue',\n",
              "      }\n",
              "    };\n",
              "\n",
              "    // Use a chunked sending to avoid message size limits. See b/62115660.\n",
              "    let position = 0;\n",
              "    do {\n",
              "      const length = Math.min(fileData.byteLength - position, MAX_PAYLOAD_SIZE);\n",
              "      const chunk = new Uint8Array(fileData, position, length);\n",
              "      position += length;\n",
              "\n",
              "      const base64 = btoa(String.fromCharCode.apply(null, chunk));\n",
              "      yield {\n",
              "        response: {\n",
              "          action: 'append',\n",
              "          file: file.name,\n",
              "          data: base64,\n",
              "        },\n",
              "      };\n",
              "\n",
              "      let percentDone = fileData.byteLength === 0 ?\n",
              "          100 :\n",
              "          Math.round((position / fileData.byteLength) * 100);\n",
              "      percent.textContent = `${percentDone}% done`;\n",
              "\n",
              "    } while (position < fileData.byteLength);\n",
              "  }\n",
              "\n",
              "  // All done.\n",
              "  yield {\n",
              "    response: {\n",
              "      action: 'complete',\n",
              "    }\n",
              "  };\n",
              "}\n",
              "\n",
              "scope.google = scope.google || {};\n",
              "scope.google.colab = scope.google.colab || {};\n",
              "scope.google.colab._files = {\n",
              "  _uploadFiles,\n",
              "  _uploadFilesContinue,\n",
              "};\n",
              "})(self);\n",
              "</script> "
            ]
          },
          "metadata": {}
        }
      ]
    },
    {
      "cell_type": "code",
      "execution_count": 120,
      "metadata": {
        "id": "rINWa_rWK-ui"
      },
      "outputs": [],
      "source": [
        "# Save all data as panda dataframes\n",
        "df_black = pd.read_csv('Black.csv')\n",
        "df_blue = pd.read_csv('Blue.csv')\n",
        "df_green = pd.read_csv('Green.csv')\n",
        "df_pink = pd.read_csv('Pink.csv')\n",
        "df_purple = pd.read_csv('Purple.csv')\n",
        "df_red = pd.read_csv('Red.csv')\n",
        "df_white = pd.read_csv('White.csv')\n",
        "df_yellow = pd.read_csv('Yellow.csv')\n"
      ],
      "id": "rINWa_rWK-ui"
    },
    {
      "cell_type": "code",
      "execution_count": 119,
      "metadata": {
        "id": "c33groa85dzr"
      },
      "outputs": [],
      "source": [
        "# Merging all the different color dataframes into one big dataframe and fill all the NaN with 0's\n",
        "final_dataframe = pd.concat([df_black, df_blue, df_green, df_pink, df_purple, df_red, df_white, df_yellow], ignore_index=True)\n",
        "dataframe_final = final_dataframe.fillna(0)"
      ],
      "id": "c33groa85dzr"
    },
    {
      "cell_type": "code",
      "execution_count": 118,
      "metadata": {
        "id": "MZqSFbjbBuEP"
      },
      "outputs": [],
      "source": [
        "# Merging all the blue and black dataframe together and fill all the NaN with 0's\n",
        "df_blue_black = pd.concat([df_blue, df_black], ignore_index=True)\n",
        "dataframe_blue_black = df_blue_black.fillna(0)"
      ],
      "id": "MZqSFbjbBuEP"
    },
    {
      "cell_type": "code",
      "execution_count": 117,
      "metadata": {
        "id": "iRyBMfrYGPlZ"
      },
      "outputs": [],
      "source": [
        "# Merging all the Yellow and Pruple dataframe together and fill all the NaN with 0's\n",
        "df_yellow_purple = pd.concat([df_yellow, df_purple], ignore_index=True)\n",
        "dataframe_yellow_purple = df_yellow_purple.fillna(0)"
      ],
      "id": "iRyBMfrYGPlZ"
    },
    {
      "cell_type": "markdown",
      "metadata": {
        "id": "U6WCyYJBaTqm"
      },
      "source": [
        "# Decision tree\n"
      ],
      "id": "U6WCyYJBaTqm"
    },
    {
      "cell_type": "code",
      "execution_count": 116,
      "metadata": {
        "id": "dWKUXu3XS2VS"
      },
      "outputs": [],
      "source": [
        "# Since not all features in the final dataframe are present within the datframe of the survey, it is needed for the decision classifier the add these features to the dataframe of the survey\n",
        "cols = features_survey_dataframe_with_color.columns.union(dataframe_final.columns)\n",
        "df_survey = features_survey_dataframe_with_color.reindex(cols, axis=1, fill_value = 0)"
      ],
      "id": "dWKUXu3XS2VS"
    },
    {
      "cell_type": "code",
      "execution_count": null,
      "metadata": {
        "id": "GY4Gwx98w184"
      },
      "outputs": [],
      "source": [
        "#load Data\n",
        "dataframe = dataframe_final\n",
        "\n",
        "# Separate Target Variable and Predictor Variables\n",
        "# Creating a list with predicor labels \n",
        "columns_names = dataframe.columns.values.tolist()\n",
        "columns_names.remove('Color')\n",
        "columns_names.remove('name')\n",
        "columns_names.remove('key confidence')\n",
        "\n",
        "# Prediction and Target values \n",
        "Predictors = columns_names\n",
        "TargetVariable = ['Color']\n",
        "X = dataframe[Predictors].values\n",
        "y = dataframe[TargetVariable].values\n",
        "\n",
        "# Test data of the survey\n",
        "X_2 = df_survey[Predictors].values\n",
        "y_2 = df_survey[TargetVariable].values\n",
        "\n",
        "# Split the data intro training and testing set\n",
        "X_train, X_test, y_train, y_test = train_test_split(X, y, test_size = 0.2)\n",
        "\n",
        "# Choose from different tunable hyper paramenters\n",
        "clf = tree.DecisionTreeClassifier(max_depth = 5, criterion = 'entropy', splitter = 'best',)\n",
        "\n",
        "# Creating the model on training Data\n",
        "DTree = clf.fit(X_train, y_train)\n",
        "prediction = DTree.predict(X_test)\n",
        "\n",
        "# Measuring accuracy on testing data\n",
        "print(metrics.classification_report(y_test, prediction))"
      ],
      "id": "GY4Gwx98w184"
    },
    {
      "cell_type": "code",
      "source": [
        "# Measuring accuracy on testing data\n",
        "prediction = DTree.predict(X_2)\n",
        "print(metrics.classification_report(y_2, prediction))"
      ],
      "metadata": {
        "id": "ObdKA05Flxkc"
      },
      "id": "ObdKA05Flxkc",
      "execution_count": null,
      "outputs": []
    },
    {
      "cell_type": "code",
      "execution_count": null,
      "metadata": {
        "id": "ShmdTeZsrI6G"
      },
      "outputs": [],
      "source": [
        "# Text visualisation \n",
        "text_visualisation = export_text(DTree, feature_names=Predictors)\n",
        "print(r)"
      ],
      "id": "ShmdTeZsrI6G"
    },
    {
      "cell_type": "code",
      "source": [
        "# All target values for the different datasets\n",
        "targets_all_data = ['Black', 'Blue', 'Green', 'Pink', 'Purple', 'Red', 'White', 'Yellow']\n",
        "targets_purple_yellow = ['Purple', 'Yellow']\n",
        "targets_blue_black = ['Black', 'Blue']\n",
        "\n",
        "#Decision tree visualisation\n",
        "plt.figure(figsize=(25,25))\n",
        "tree.plot_tree(DTree, feature_names = Predictors, class_names = targets_all_data, label ='all', impurity = False, fontsize=3)\n",
        "plt.savefig('Decisiontree_all_data.jpg',format='jpg', bbox_inches = \"tight\", dpi=900)"
      ],
      "metadata": {
        "id": "vUQ-0FVSd0lu"
      },
      "id": "vUQ-0FVSd0lu",
      "execution_count": null,
      "outputs": []
    }
  ],
  "metadata": {
    "colab": {
      "collapsed_sections": [
        "AOG5pSghqZ9I",
        "eoDlcEJoUgqZ",
        "-AUoM4ORzLnw",
        "SUabYULiMz1_",
        "6rblm5nVYNci",
        "cnfi1w-KBwC6",
        "pj417bphGfxB",
        "U6WCyYJBaTqm"
      ],
      "provenance": []
    },
    "kernelspec": {
      "display_name": "Python 3",
      "language": "python",
      "name": "python3"
    },
    "language_info": {
      "codemirror_mode": {
        "name": "ipython",
        "version": 3
      },
      "file_extension": ".py",
      "mimetype": "text/x-python",
      "name": "python",
      "nbconvert_exporter": "python",
      "pygments_lexer": "ipython3",
      "version": "3.8.7"
    }
  },
  "nbformat": 4,
  "nbformat_minor": 5
}